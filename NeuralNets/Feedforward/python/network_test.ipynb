{
 "cells": [
  {
   "attachments": {},
   "cell_type": "markdown",
   "metadata": {},
   "source": [
    "# Testing Feedforward Neural Network\n"
   ]
  },
  {
   "cell_type": "code",
   "execution_count": 1,
   "metadata": {},
   "outputs": [
    {
     "name": "stderr",
     "output_type": "stream",
     "text": [
      "2023-04-05 15:30:24.501668: I tensorflow/core/platform/cpu_feature_guard.cc:182] This TensorFlow binary is optimized to use available CPU instructions in performance-critical operations.\n",
      "To enable the following instructions: AVX2 FMA, in other operations, rebuild TensorFlow with the appropriate compiler flags.\n"
     ]
    }
   ],
   "source": [
    "import matplotlib.pyplot as plt\n",
    "import numpy as np\n",
    "from keras.datasets import mnist\n",
    "\n",
    "from NeuralNet import NeuralNet"
   ]
  },
  {
   "attachments": {},
   "cell_type": "markdown",
   "metadata": {},
   "source": [
    "### Basic Test (If sum of `N` random numbers between 0 - 1 is greater than `N / 2`)\n"
   ]
  },
  {
   "attachments": {},
   "cell_type": "markdown",
   "metadata": {},
   "source": [
    "**Specifying Network layout and training/testing data**\n"
   ]
  },
  {
   "cell_type": "code",
   "execution_count": 2,
   "metadata": {},
   "outputs": [],
   "source": [
    "NPL = [4, 10, 10, 10, 1]\n",
    "train_x = np.array([np.random.rand(NPL[0]) for _ in range(5000)], dtype=np.float32)\n",
    "train_y = np.array([int(np.sum(x) > NPL[0] / 2) for x in train_x], dtype=np.float32)\n",
    "\n",
    "test_x = np.random.rand(NPL[0]).astype(np.float32)\n",
    "test_y = np.array(int(np.sum(test_x) > NPL[0] / 2), dtype=np.float32)\n"
   ]
  },
  {
   "attachments": {},
   "cell_type": "markdown",
   "metadata": {},
   "source": [
    "**Training Network**\n"
   ]
  },
  {
   "cell_type": "code",
   "execution_count": 3,
   "metadata": {},
   "outputs": [
    {
     "name": "stdout",
     "output_type": "stream",
     "text": [
      "Epoch[0]: Loss = 0.2556924164518714\n",
      "Epoch[1]: Loss = 0.25365089032649996\n",
      "Epoch[2]: Loss = 0.2531499320715666\n",
      "Epoch[3]: Loss = 0.25285454088896514\n",
      "Epoch[4]: Loss = 0.2523579186052084\n",
      "Epoch[5]: Loss = 0.25027655212581157\n",
      "Epoch[6]: Loss = 0.15736205625440436\n",
      "Epoch[7]: Loss = 0.03569793273708195\n",
      "Epoch[8]: Loss = 0.028316391265706623\n",
      "Epoch[9]: Loss = 0.025657523767414432\n"
     ]
    }
   ],
   "source": [
    "net = NeuralNet(NPL=NPL, learning_rate=0.3)\n",
    "net.train(train_x, train_y, epochs=10)\n"
   ]
  },
  {
   "attachments": {},
   "cell_type": "markdown",
   "metadata": {},
   "source": [
    "**Testing Network**\n"
   ]
  },
  {
   "cell_type": "code",
   "execution_count": 4,
   "metadata": {},
   "outputs": [
    {
     "name": "stdout",
     "output_type": "stream",
     "text": [
      "Sum of testing data (1.5264286994934082) is less than 2.0\n",
      "Expected output is 0.0\n",
      "Network predicted: 7.326510967686772e-05, with a loss of 5.367776445552863e-09\n"
     ]
    }
   ],
   "source": [
    "net.activations[0] = test_x\n",
    "net.forward_prop()\n",
    "test_loss = net.calculate_loss(test_y)\n",
    "\n",
    "print(\n",
    "    f\"Sum of testing data ({np.sum(test_x)}) is {'greater' if test_y else 'less'} than {NPL[0] / 2}\"\n",
    ")\n",
    "print(f\"Expected output is {test_y}\")\n",
    "print(f\"Network predicted: {net.activations[-1][0]}, with a loss of {test_loss}\")\n"
   ]
  },
  {
   "attachments": {},
   "cell_type": "markdown",
   "metadata": {},
   "source": [
    "### MNIST test\n"
   ]
  },
  {
   "attachments": {},
   "cell_type": "markdown",
   "metadata": {},
   "source": [
    "**Loading MNIST Data**\n"
   ]
  },
  {
   "cell_type": "code",
   "execution_count": 5,
   "metadata": {},
   "outputs": [],
   "source": [
    "(train_X, train_y), (test_X, test_y) = mnist.load_data()\n",
    "\n",
    "# Flattening image and converting range to 0.0 -> 1.0\n",
    "train_X = (train_X / 255).reshape((60000, 784)).astype(np.float32)\n",
    "test_X = (test_X / 255).reshape((10000, 784)).astype(np.float32)\n",
    "\n",
    "# One-hot encoding labels\n",
    "train_y = np.eye(10, dtype=np.float32)[train_y]\n",
    "test_y = np.eye(10, dtype=np.float32)[test_y]\n"
   ]
  },
  {
   "attachments": {},
   "cell_type": "markdown",
   "metadata": {},
   "source": [
    "**Training Network**\n"
   ]
  },
  {
   "cell_type": "code",
   "execution_count": 6,
   "metadata": {},
   "outputs": [
    {
     "name": "stdout",
     "output_type": "stream",
     "text": [
      "Epoch[0]: Loss = 0.013427510760722721\n",
      "Epoch[1]: Loss = 0.006347791628227496\n",
      "Epoch[2]: Loss = 0.004592710906769356\n",
      "Epoch[3]: Loss = 0.0036459444068689642\n",
      "Epoch[4]: Loss = 0.0030611378092877672\n",
      "Epoch[5]: Loss = 0.0025926880138376542\n",
      "Epoch[6]: Loss = 0.002238838584371966\n",
      "Epoch[7]: Loss = 0.0020081771895305565\n",
      "Epoch[8]: Loss = 0.0017730746846103464\n",
      "Epoch[9]: Loss = 0.0016513852206936571\n",
      "Epoch[10]: Loss = 0.001552645138848245\n",
      "Epoch[11]: Loss = 0.0012952627498335856\n",
      "Epoch[12]: Loss = 0.0011823291090484285\n",
      "Epoch[13]: Loss = 0.0010907155437456543\n",
      "Epoch[14]: Loss = 0.0010171154003573758\n",
      "Epoch[15]: Loss = 0.0009621004832451727\n",
      "Epoch[16]: Loss = 0.0008783538994963436\n",
      "Epoch[17]: Loss = 0.0008652124586280708\n",
      "Epoch[18]: Loss = 0.000801861934909756\n",
      "Epoch[19]: Loss = 0.0007347340557508302\n"
     ]
    }
   ],
   "source": [
    "NPL = [784, 100, 100, 10]\n",
    "\n",
    "net = NeuralNet(NPL=NPL, learning_rate=0.3)\n",
    "net.train(train_X, train_y, epochs=20)\n"
   ]
  },
  {
   "attachments": {},
   "cell_type": "markdown",
   "metadata": {},
   "source": [
    "**Testing Network**\n"
   ]
  },
  {
   "cell_type": "code",
   "execution_count": 16,
   "metadata": {},
   "outputs": [
    {
     "name": "stdout",
     "output_type": "stream",
     "text": [
      "Expected output is [0. 0. 1. 0. 0. 0. 0. 0. 0. 0.]\n",
      "Network predicted: [4.49992949e-04 2.52325028e-09 9.96403098e-01 2.48384924e-04\n",
      " 3.30168337e-09 1.19687265e-08 6.88037076e-08 3.58663558e-04\n",
      " 1.45056460e-04 1.24120504e-07], with loss of 1.3351572763703408e-06\n"
     ]
    },
    {
     "data": {
      "image/png": "[encoded data removed]",
      "text/plain": [
       "<Figure size 640x480 with 2 Axes>"
      ]
     },
     "metadata": {},
     "output_type": "display_data"
    }
   ],
   "source": [
    "TEST_EXAMPLE: int = 9954\n",
    "\n",
    "net.activations[0] = test_X[TEST_EXAMPLE]\n",
    "net.forward_prop()\n",
    "test_loss = net.calculate_loss(test_y[TEST_EXAMPLE])\n",
    "\n",
    "fig, axs = plt.subplots(1, 2)\n",
    "axs[0].bar(x=[str(x) for x in range(10)], height=net.activations[-1])\n",
    "axs[0].set_title(\"Comparing Outputs\")\n",
    "axs[0].set_ylabel(\"Confidence\")\n",
    "axs[0].set_xlabel(\"Number Label\")\n",
    "\n",
    "axs[1].imshow(test_X[TEST_EXAMPLE].reshape((28, 28)))\n",
    "\n",
    "print(f\"Expected output is {test_y[TEST_EXAMPLE]}\")\n",
    "print(f\"Network predicted: {net.activations[-1]}, with loss of {test_loss}\")\n"
   ]
  }
 ],
 "metadata": {
  "kernelspec": {
   "display_name": "Python 3",
   "language": "python",
   "name": "python3"
  },
  "language_info": {
   "codemirror_mode": {
    "name": "ipython",
    "version": 3
   },
   "file_extension": ".py",
   "mimetype": "text/x-python",
   "name": "python",
   "nbconvert_exporter": "python",
   "pygments_lexer": "ipython3",
   "version": "3.11.2"
  },
  "orig_nbformat": 4,
  "vscode": {
   "interpreter": {
    "hash": "aee8b7b246df8f9039afb4144a1f6fd8d2ca17a180786b69acc140d282b71a49"
   }
  }
 },
 "nbformat": 4,
 "nbformat_minor": 2
}

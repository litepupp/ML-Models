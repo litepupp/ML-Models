{
 "cells": [
  {
   "cell_type": "code",
   "execution_count": 1,
   "metadata": {},
   "outputs": [
    {
     "name": "stderr",
     "output_type": "stream",
     "text": [
      "2023-04-05 12:59:36.271718: I tensorflow/core/platform/cpu_feature_guard.cc:182] This TensorFlow binary is optimized to use available CPU instructions in performance-critical operations.\n",
      "To enable the following instructions: AVX2 FMA, in other operations, rebuild TensorFlow with the appropriate compiler flags.\n"
     ]
    }
   ],
   "source": [
    "import matplotlib.pyplot as plt\n",
    "import numpy as np\n",
    "from tensorflow import keras\n",
    "from keras.datasets import mnist\n",
    "\n",
    "from NeuralNet import NeuralNet\n",
    "\n",
    "(train_X, train_y), (test_X, test_y) = mnist.load_data()"
   ]
  },
  {
   "attachments": {},
   "cell_type": "markdown",
   "metadata": {},
   "source": [
    "### Basic Test (If sum of `N` random numbers between 0 - 1 is greater than `N / 2`)\n"
   ]
  },
  {
   "attachments": {},
   "cell_type": "markdown",
   "metadata": {},
   "source": [
    "**Specifying Network layout and training/testing data**\n"
   ]
  },
  {
   "cell_type": "code",
   "execution_count": 2,
   "metadata": {},
   "outputs": [],
   "source": [
    "NPL = [4, 100, 100, 1]\n",
    "train_x = np.array([np.random.rand(NPL[0]) for _ in range(1000)], dtype=np.float32)\n",
    "train_y = np.array([int(np.sum(x) > NPL[0] / 2) for x in train_x], dtype=np.float32)\n",
    "\n",
    "test_x = np.random.rand(NPL[0]).astype(np.float32)\n",
    "test_y = np.array(int(np.sum(test_x) > NPL[0] / 2), dtype=np.float32)\n"
   ]
  },
  {
   "attachments": {},
   "cell_type": "markdown",
   "metadata": {},
   "source": [
    "**Training Network**\n"
   ]
  },
  {
   "cell_type": "code",
   "execution_count": 3,
   "metadata": {},
   "outputs": [
    {
     "name": "stdout",
     "output_type": "stream",
     "text": [
      "Epoch[0]: Loss = 0.28732578401644115\n",
      "Epoch[1]: Loss = 0.21222768063035308\n",
      "Epoch[2]: Loss = 0.10284905225177075\n",
      "Epoch[3]: Loss = 0.06350180772139645\n",
      "Epoch[4]: Loss = 0.050325190400671786\n",
      "Epoch[5]: Loss = 0.04344284845096203\n",
      "Epoch[6]: Loss = 0.038472297658632894\n",
      "Epoch[7]: Loss = 0.034300591789061356\n",
      "Epoch[8]: Loss = 0.03140922453403452\n",
      "Epoch[9]: Loss = 0.029444279674565366\n"
     ]
    }
   ],
   "source": [
    "net = NeuralNet(NPL=NPL, learning_rate=0.3)\n",
    "net.train(train_x, train_y, epochs=10)\n"
   ]
  },
  {
   "cell_type": "code",
   "execution_count": 4,
   "metadata": {},
   "outputs": [
    {
     "data": {
      "text/plain": [
       "0.6274210256079157"
      ]
     },
     "execution_count": 4,
     "metadata": {},
     "output_type": "execute_result"
    }
   ],
   "source": [
    "net.activations[0] = test_x\n",
    "net.forward_prop()\n",
    "test_loss = net.calculate_loss(test_y)\n",
    "test_loss"
   ]
  },
  {
   "attachments": {},
   "cell_type": "markdown",
   "metadata": {},
   "source": [
    "### MNIST test\n"
   ]
  },
  {
   "attachments": {},
   "cell_type": "markdown",
   "metadata": {},
   "source": [
    "![ChessUrl](https://upload.wikimedia.org/wikipedia/commons/7/71/ChessPawnSpecialMoves.gif \"chess\")"
   ]
  }
 ],
 "metadata": {
  "kernelspec": {
   "display_name": "Python 3",
   "language": "python",
   "name": "python3"
  },
  "language_info": {
   "codemirror_mode": {
    "name": "ipython",
    "version": 3
   },
   "file_extension": ".py",
   "mimetype": "text/x-python",
   "name": "python",
   "nbconvert_exporter": "python",
   "pygments_lexer": "ipython3",
   "version": "3.11.2"
  },
  "orig_nbformat": 4,
  "vscode": {
   "interpreter": {
    "hash": "aee8b7b246df8f9039afb4144a1f6fd8d2ca17a180786b69acc140d282b71a49"
   }
  }
 },
 "nbformat": 4,
 "nbformat_minor": 2
}

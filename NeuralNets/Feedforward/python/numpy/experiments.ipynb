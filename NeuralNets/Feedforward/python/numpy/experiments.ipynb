{
 "cells": [
  {
   "cell_type": "code",
   "execution_count": 1,
   "metadata": {},
   "outputs": [],
   "source": [
    "import numpy as np\n",
    "from NeuralNet import NeuralNet\n"
   ]
  },
  {
   "attachments": {},
   "cell_type": "markdown",
   "metadata": {},
   "source": [
    "**Sum of all activations of previous layer**  \n",
    "Set Weights to 1  \n",
    "Example: 10 neurons connecting to one neuron, sum of random activations into final layer"
   ]
  },
  {
   "cell_type": "code",
   "execution_count": 28,
   "metadata": {},
   "outputs": [
    {
     "name": "stdout",
     "output_type": "stream",
     "text": [
      "sum of [0.87187765 0.12805992 0.03969709 0.00465252 0.4212945  0.03767562\n",
      " 0.26995187 0.34450088 0.63871401 0.3646039 ] = 3.1210279575637374\n",
      "final layer = [3.12102796]\n"
     ]
    }
   ],
   "source": [
    "net = NeuralNet([10 ,1], activation_function=\"relu\")\n",
    "\n",
    "net.activations[0] = np.random.random_sample((10,))\n",
    "net.weights[0] = np.ones((10 ,1))\n",
    "\n",
    "print(f\"sum of {net.activations[0]} = {net.activations[0].sum()}\")\n",
    "net.forward_prop()\n",
    "print(f\"final layer = {net.activations[1]}\")"
   ]
  },
  {
   "attachments": {},
   "cell_type": "markdown",
   "metadata": {},
   "source": [
    "Average"
   ]
  }
 ],
 "metadata": {
  "kernelspec": {
   "display_name": "Python 3",
   "language": "python",
   "name": "python3"
  },
  "language_info": {
   "codemirror_mode": {
    "name": "ipython",
    "version": 3
   },
   "file_extension": ".py",
   "mimetype": "text/x-python",
   "name": "python",
   "nbconvert_exporter": "python",
   "pygments_lexer": "ipython3",
   "version": "3.11.2"
  },
  "orig_nbformat": 4
 },
 "nbformat": 4,
 "nbformat_minor": 2
}
